{
  "nbformat": 4,
  "nbformat_minor": 0,
  "metadata": {
    "colab": {
      "provenance": []
    },
    "kernelspec": {
      "name": "python3",
      "display_name": "Python 3"
    },
    "language_info": {
      "name": "python"
    }
  },
  "cells": [
    {
      "cell_type": "markdown",
      "source": [
        "Write a Python function to accept a string value from the user and display the\n",
        "count of each character in that string. Sample input: Enter a string value:\n",
        "assembly Sample output: a=1, s=2, e=1, m=1, b=1, l=1, y=1?"
      ],
      "metadata": {
        "id": "QL_hAUKG-w8A"
      }
    },
    {
      "cell_type": "code",
      "execution_count": 5,
      "metadata": {
        "id": "7XWwtt0F-bT-"
      },
      "outputs": [],
      "source": [
        "def accept(string):\n",
        "  for x in string:\n",
        "    print(x)"
      ]
    },
    {
      "cell_type": "code",
      "source": [
        "x = int(input('enter string value:'))\n",
        "accept(x)"
      ],
      "metadata": {
        "colab": {
          "base_uri": "https://localhost:8080/",
          "height": 263
        },
        "id": "IzmjqMa2Bmcw",
        "outputId": "d1b0adfd-9fef-415e-e8df-43a90f76d355"
      },
      "execution_count": 8,
      "outputs": [
        {
          "name": "stdout",
          "output_type": "stream",
          "text": [
            "enter string value:2\n"
          ]
        },
        {
          "output_type": "error",
          "ename": "TypeError",
          "evalue": "'int' object is not iterable",
          "traceback": [
            "\u001b[0;31m---------------------------------------------------------------------------\u001b[0m",
            "\u001b[0;31mTypeError\u001b[0m                                 Traceback (most recent call last)",
            "\u001b[0;32m<ipython-input-8-d1947c474b79>\u001b[0m in \u001b[0;36m<cell line: 2>\u001b[0;34m()\u001b[0m\n\u001b[1;32m      1\u001b[0m \u001b[0mx\u001b[0m \u001b[0;34m=\u001b[0m \u001b[0mint\u001b[0m\u001b[0;34m(\u001b[0m\u001b[0minput\u001b[0m\u001b[0;34m(\u001b[0m\u001b[0;34m'enter string value:'\u001b[0m\u001b[0;34m)\u001b[0m\u001b[0;34m)\u001b[0m\u001b[0;34m\u001b[0m\u001b[0;34m\u001b[0m\u001b[0m\n\u001b[0;32m----> 2\u001b[0;31m \u001b[0maccept\u001b[0m\u001b[0;34m(\u001b[0m\u001b[0mx\u001b[0m\u001b[0;34m)\u001b[0m\u001b[0;34m\u001b[0m\u001b[0;34m\u001b[0m\u001b[0m\n\u001b[0m",
            "\u001b[0;32m<ipython-input-5-734e99a8e291>\u001b[0m in \u001b[0;36maccept\u001b[0;34m(string)\u001b[0m\n\u001b[1;32m      1\u001b[0m \u001b[0;32mdef\u001b[0m \u001b[0maccept\u001b[0m\u001b[0;34m(\u001b[0m\u001b[0mstring\u001b[0m\u001b[0;34m)\u001b[0m\u001b[0;34m:\u001b[0m\u001b[0;34m\u001b[0m\u001b[0;34m\u001b[0m\u001b[0m\n\u001b[0;32m----> 2\u001b[0;31m   \u001b[0;32mfor\u001b[0m \u001b[0mx\u001b[0m \u001b[0;32min\u001b[0m \u001b[0mstring\u001b[0m\u001b[0;34m:\u001b[0m\u001b[0;34m\u001b[0m\u001b[0;34m\u001b[0m\u001b[0m\n\u001b[0m\u001b[1;32m      3\u001b[0m     \u001b[0mprint\u001b[0m\u001b[0;34m(\u001b[0m\u001b[0mx\u001b[0m\u001b[0;34m)\u001b[0m\u001b[0;34m\u001b[0m\u001b[0;34m\u001b[0m\u001b[0m\n",
            "\u001b[0;31mTypeError\u001b[0m: 'int' object is not iterable"
          ]
        }
      ]
    },
    {
      "cell_type": "markdown",
      "source": [
        "2Write a Python function to find the maximum of three numbers Sample input:\n",
        "34,12,7 Sample output: 34 ?"
      ],
      "metadata": {
        "id": "GNHuh5IN_tsI"
      }
    },
    {
      "cell_type": "code",
      "source": [
        "def maximum_of_three_num(a,b,c):\n",
        "  if a>b and a>c:\n",
        "    return a\n",
        "  if b>a and b>c:\n",
        "    return b\n",
        "  else:\n",
        "    return c\n",
        "a = int(input('Enter the first number: '))\n",
        "b = int(input('Enter the second number: '))\n",
        "c = int(input('Enter the third number: '))\n",
        "max= maximum_of_three_num(a,b,c)\n",
        "print('The maximum of the three numbers is:', max)\n"
      ],
      "metadata": {
        "colab": {
          "base_uri": "https://localhost:8080/",
          "height": 0
        },
        "id": "xubs2kpRDzJS",
        "outputId": "708cbc32-78b1-4d2d-baae-96e91fcdd21b"
      },
      "execution_count": 76,
      "outputs": [
        {
          "output_type": "stream",
          "name": "stdout",
          "text": [
            "Enter the first number: 8\n",
            "Enter the second number: 9\n",
            "Enter the third number: 4\n",
            "The maximum of the three numbers is: 9\n"
          ]
        }
      ]
    },
    {
      "cell_type": "markdown",
      "source": [
        "3. Write a Python function called exponent(base,exp) that returns an integer\n",
        "value of base raises to the power of exp. Sample input: Enter the base: 2\n",
        "Enter the exponent: 3 Sample output: 8 ?"
      ],
      "metadata": {
        "id": "KhQLZcOlLfkK"
      }
    },
    {
      "cell_type": "code",
      "source": [
        "def exponent(base,exp):\n",
        "  result= base**exp\n",
        "  print('output is:',result)\n",
        "\n",
        "exp =  int(input('Enter the exp:'))\n",
        "base = int(input('Enter the base:'))\n",
        "exponent(base,exp)\n"
      ],
      "metadata": {
        "colab": {
          "base_uri": "https://localhost:8080/",
          "height": 0
        },
        "id": "JJwnabLwKyWz",
        "outputId": "1823afda-6b4c-4122-d321-56007ba12f50"
      },
      "execution_count": 125,
      "outputs": [
        {
          "output_type": "stream",
          "name": "stdout",
          "text": [
            "Enter the exp:3\n",
            "Enter the base:2\n",
            "output is: 8\n"
          ]
        }
      ]
    },
    {
      "cell_type": "markdown",
      "source": [
        "4. Write a Python function that takes a positive integer and returns the sum of\n",
        "the cube of all the positive integers smaller than the specified number.\n",
        "Sample input: 4 Sample output: 36. ?"
      ],
      "metadata": {
        "id": "WD2jzhKHMB1z"
      }
    },
    {
      "cell_type": "code",
      "source": [
        "import math\n",
        "def cube(x):\n",
        "  at=0\n",
        "  for i in range(1,x):\n",
        "    at=at+i**3\n",
        "\n",
        "  print(at)\n",
        "\n",
        "a=int(input('enter the number'))\n",
        "if a<0:\n",
        "  print('enter  a positive number')\n",
        "else:\n",
        "  cube(a)"
      ],
      "metadata": {
        "colab": {
          "base_uri": "https://localhost:8080/",
          "height": 0
        },
        "id": "t4uh6abMMBYE",
        "outputId": "0b8ec403-309a-4581-de41-be56f127096e"
      },
      "execution_count": 126,
      "outputs": [
        {
          "output_type": "stream",
          "name": "stdout",
          "text": [
            "enter the number4\n",
            "36\n"
          ]
        }
      ]
    },
    {
      "cell_type": "markdown",
      "source": [
        "5. Write a Python program which iterates from 1 to 10. For multiples of 2, print\n",
        "“Fizz” instead of the number and for the multiples of 5, print “Buzz”. For\n",
        "numbers which are multiples of both 2 and 5, print “FizzBuzz”. Sample input:\n",
        "numbers from 1 to 10 Sample output: 1 Fizz 3 Fizz Buzz Fizz 7 Fizz 9\n",
        "FizzBuzz ?"
      ],
      "metadata": {
        "id": "1NrvApXZMXgb"
      }
    },
    {
      "cell_type": "code",
      "source": [
        "def iterates(n,i)\n",
        " for n>i:\n",
        "  return n:\n",
        " for i>n:\n",
        "  return i:\n",
        "\n"
      ],
      "metadata": {
        "colab": {
          "base_uri": "https://localhost:8080/",
          "height": 106
        },
        "id": "eGXlqwC3MXMd",
        "outputId": "21b502ad-ec0b-444f-85df-890c56da5002"
      },
      "execution_count": 124,
      "outputs": [
        {
          "output_type": "error",
          "ename": "SyntaxError",
          "evalue": "expected ':' (<ipython-input-124-e32c34d32ad5>, line 1)",
          "traceback": [
            "\u001b[0;36m  File \u001b[0;32m\"<ipython-input-124-e32c34d32ad5>\"\u001b[0;36m, line \u001b[0;32m1\u001b[0m\n\u001b[0;31m    def iterates(n)\u001b[0m\n\u001b[0m                   ^\u001b[0m\n\u001b[0;31mSyntaxError\u001b[0m\u001b[0;31m:\u001b[0m expected ':'\n"
          ]
        }
      ]
    },
    {
      "cell_type": "markdown",
      "source": [
        "6. Write a Python function to find the most frequent item in a list of numbers.\n",
        "Sample input: 2, 3, 4, 2, 5, 2 Sample output: 2 ?"
      ],
      "metadata": {
        "id": "iwfdqmpJMc-r"
      }
    },
    {
      "cell_type": "code",
      "source": [
        "def frequent(frq):\n",
        "    for frq\n",
        "    print (frequent(frq))\n",
        "    else(frq)\n",
        "        n1=input('Enter the first number')\n",
        "        n2=input('Enter the second number')\n",
        "        n3=input('Enter the third number')\n",
        "        n4=input('Enter the fourth number')\n",
        "        n5=input('Enter the fifth number')\n",
        "        print(frq)\n"
      ],
      "metadata": {
        "colab": {
          "base_uri": "https://localhost:8080/",
          "height": 106
        },
        "id": "QIVJIVb4MchT",
        "outputId": "6fb6113f-a61c-4160-ea49-7ed558701570"
      },
      "execution_count": 93,
      "outputs": [
        {
          "output_type": "error",
          "ename": "SyntaxError",
          "evalue": "invalid syntax (<ipython-input-93-2424fbe209f3>, line 2)",
          "traceback": [
            "\u001b[0;36m  File \u001b[0;32m\"<ipython-input-93-2424fbe209f3>\"\u001b[0;36m, line \u001b[0;32m2\u001b[0m\n\u001b[0;31m    for frq\u001b[0m\n\u001b[0m           ^\u001b[0m\n\u001b[0;31mSyntaxError\u001b[0m\u001b[0;31m:\u001b[0m invalid syntax\n"
          ]
        }
      ]
    },
    {
      "cell_type": "markdown",
      "source": [
        "7. Write a Python function to find the sum of squares of the numbers in a list.\n",
        "Sample input: 2,1,3,1 Sample output: 15 ?"
      ],
      "metadata": {
        "id": "c0TkaJG7NqEE"
      }
    },
    {
      "cell_type": "code",
      "source": [
        "def sqr_list(x):\n",
        "  a=0\n",
        "  for i in x:\n",
        "    a=a+i**2\n",
        "  print(a)\n",
        "\n",
        "a=[1,2,1,3]\n",
        "sqr_list(a)"
      ],
      "metadata": {
        "colab": {
          "base_uri": "https://localhost:8080/",
          "height": 0
        },
        "id": "ajYpSC1DNvzs",
        "outputId": "e1094e6a-3bf3-4e8c-c2a7-32dea7f32061"
      },
      "execution_count": 141,
      "outputs": [
        {
          "output_type": "stream",
          "name": "stdout",
          "text": [
            "15\n"
          ]
        }
      ]
    },
    {
      "cell_type": "markdown",
      "source": [
        "8. Write a Python program using for loop that will iterate from 1 to 15. For each\n",
        "iteration, check if the current number is odd or even, and display the message\n",
        "to the screen as odd or even. Sample input: 1….15 Sample output: 1-odd 2-\n",
        "even …. 15-odd ?"
      ],
      "metadata": {
        "id": "Umlxg9MBNwMc"
      }
    },
    {
      "cell_type": "code",
      "source": [
        "for x in range(1,15):\n",
        "  if x % 2 == 0:\n",
        "    print(f\"even\",x)\n",
        "  else:\n",
        "    print(f\"odd\",x)\n"
      ],
      "metadata": {
        "colab": {
          "base_uri": "https://localhost:8080/",
          "height": 0
        },
        "id": "Cvm9qyDWNtTe",
        "outputId": "23b15d52-f902-4a49-bf39-8790c44dd8f4"
      },
      "execution_count": 145,
      "outputs": [
        {
          "output_type": "stream",
          "name": "stdout",
          "text": [
            "odd 1\n",
            "even 2\n",
            "odd 3\n",
            "even 4\n",
            "odd 5\n",
            "even 6\n",
            "odd 7\n",
            "even 8\n",
            "odd 9\n",
            "even 10\n",
            "odd 11\n",
            "even 12\n",
            "odd 13\n",
            "even 14\n"
          ]
        }
      ]
    },
    {
      "cell_type": "markdown",
      "source": [
        "9. Write a Python function to convert temperatures to and from Celsius\n",
        "Fahrenheit. [Formula: c/5=f-32/9 where c=temperature in Celsius and f=\n",
        "temperature in Fahrenheit.] Sample input: Temperature in Fahrenheit =41\n",
        "Sample output: Temperature in Celsius =5 ?"
      ],
      "metadata": {
        "id": "TyT-SddXR1SV"
      }
    },
    {
      "cell_type": "code",
      "source": [
        "def convert_temp_to_fahrenheit(fahrenheit):\n",
        "  celsius = (fahrenheit-32)/9*5\n",
        "  print('Temperature in Celsius:',celsius)\n",
        "fahrenheit = int(input('Temperature in Fahrenheit: '))\n",
        "convert_temp_to_fahrenheit(fahrenheit)\n"
      ],
      "metadata": {
        "colab": {
          "base_uri": "https://localhost:8080/",
          "height": 0
        },
        "id": "dNLBQy4zRMgU",
        "outputId": "55390c0f-3fdf-4641-a5a0-43c47279adb1"
      },
      "execution_count": 83,
      "outputs": [
        {
          "output_type": "stream",
          "name": "stdout",
          "text": [
            "Temperature in Fahrenheit: 41\n",
            "Temperature in Celsius: 5.0\n"
          ]
        }
      ]
    },
    {
      "cell_type": "markdown",
      "source": [
        "10.Write a Python function to calculate the factorial of a number (a nonnegative\n",
        "integer). The function accepts the number as an argument. Sample input: 3\n",
        "Sample output: 6?"
      ],
      "metadata": {
        "id": "e_rFNXq1TX5F"
      }
    },
    {
      "cell_type": "code",
      "source": [
        "def factorial(n):\n",
        "  if n == 0:\n",
        "    return 1\n",
        "  else:\n",
        "    return n * factorial(n-1)\n",
        "n = int(input('Enter a nonnegative integer:'))\n",
        "result = factorial(n)\n",
        "print(f'The factorial of number is:',result)"
      ],
      "metadata": {
        "colab": {
          "base_uri": "https://localhost:8080/",
          "height": 0
        },
        "id": "3hsfH696WF2-",
        "outputId": "5ec591ab-b072-4161-d3a8-badebfbdaaec"
      },
      "execution_count": 48,
      "outputs": [
        {
          "output_type": "stream",
          "name": "stdout",
          "text": [
            "Enter a nonnegative integer:3\n",
            "The factorial of number is: 6\n"
          ]
        }
      ]
    },
    {
      "cell_type": "markdown",
      "source": [
        "11.Case Study: Grade Calculator\n",
        "In this case study, you have to create a program that calculates the final\n",
        "grade for a student based on their scores in different assessments. The\n",
        "program will take input from the user, perform calculations, and display the\n",
        "final grade along with additional information.\n",
        "Requirements:\n",
        "1. The program should prompt the user to enter the following information:\n",
        "• Student's name\n",
        "• Number of assessments (e.g., assignments, quizzes, exams)\n",
        "• Weight (percentage) of each assessment type\n",
        "2. For each assessment type, the program should ask the user to enter:\n",
        "• Number of assessments of that type\n",
        "• Score obtained for each assessment.\n",
        "3. The program should calculate the weighted average score for each\n",
        "assessment type.\n",
        "4. The program should then calculate the final grade using the weighted\n",
        "average scores and the weights provided by the user.\n",
        "5. The program should display the following information:\n",
        "• Student's name\n",
        "• Weighted average score for each assessment type\n",
        "• Final grade\n",
        "• Letter grade based on a grading scale (e.g., A, B, C, D, F)\n",
        "6. The program should have a function to determine the letter grade based\n",
        "on the final grade."
      ],
      "metadata": {
        "id": "eRPqKhBWqtZD"
      }
    },
    {
      "cell_type": "code",
      "source": [],
      "metadata": {
        "id": "9Zuntubfwtae"
      },
      "execution_count": null,
      "outputs": []
    }
  ]
}